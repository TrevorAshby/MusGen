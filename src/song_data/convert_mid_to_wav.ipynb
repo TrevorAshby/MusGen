{
 "cells": [
  {
   "cell_type": "code",
   "execution_count": 2,
   "metadata": {},
   "outputs": [],
   "source": [
    "from pathlib import Path\n",
    "import os\n",
    "from midi2audio import FluidSynth\n",
    "src_dir = Path(\"C:\\\\Users\\\\bkweb\\\\Documents\\\\dragn\\\\MusGen\\\\src\\\\mid_data_collections\")\n",
    "sf_path = Path(\"C:\\\\Users\\\\bkweb\\\\Documents\\\\dragn\\\\MusGen\\\\src\\\\misc\\\\FluidR3_GM.sf2\")\n",
    "dest_path = Path(\"C:\\\\Users\\\\bkweb\\\\Documents\\\\dragn\\\\MusGen\\\\src\\\\wav_data_collections\")\n",
    "sr = 44100\n",
    "fs = FluidSynth(sound_font=sf_path, sample_rate=sr)"
   ]
  },
  {
   "cell_type": "code",
   "execution_count": 99,
   "metadata": {},
   "outputs": [],
   "source": [
    "count = 0\n",
    "for root, dirs, files in os.walk(src_dir):   \n",
    "        for file in files:\n",
    "            if count > 200:\n",
    "                break\n",
    "            if root != \"C:\\\\Users\\\\bkweb\\\\Documents\\\\dragn\\\\MusGen\\\\src\\\\mid_data_collections\\\\mid_0_to_10000\": \n",
    "                # print(\"wav\" + Path(root).parts[-1][3:])\n",
    "                # if not Path(Path(root).parent, \"wav\" + Path(root).parts[-1][3:]).is_dir():\n",
    "                    # Path(Path(root).parent, \"wav\" + Path(root).parts[-1][3:]).mkdir(parents=False)\n",
    "                # print(Path(Path(Path(root).parent, \"wav\" + Path(root).parts[-1][3:]), file.replace(\".mid\", \".wav\")))\n",
    "                if not Path(str(Path(root, file)).replace('mid', 'wav')).is_dir():  \n",
    "                    fs.midi_to_audio(Path(root, file), Path(str(Path(root, file)).replace('mid', 'wav')))\n",
    "                count += 1"
   ]
  }
 ],
 "metadata": {
  "kernelspec": {
   "display_name": "Python 3.9.13 64-bit (windows store)",
   "language": "python",
   "name": "python3"
  },
  "language_info": {
   "codemirror_mode": {
    "name": "ipython",
    "version": 3
   },
   "file_extension": ".py",
   "mimetype": "text/x-python",
   "name": "python",
   "nbconvert_exporter": "python",
   "pygments_lexer": "ipython3",
   "version": "3.9.13"
  },
  "orig_nbformat": 4,
  "vscode": {
   "interpreter": {
    "hash": "1682fff58e0941dfe2be419cba7588859791813d0fc092b99fb5d97aa2e04bce"
   }
  }
 },
 "nbformat": 4,
 "nbformat_minor": 2
}
