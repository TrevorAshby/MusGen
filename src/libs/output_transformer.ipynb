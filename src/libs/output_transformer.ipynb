{
 "cells": [
  {
   "cell_type": "code",
   "execution_count": 1,
   "metadata": {},
   "outputs": [],
   "source": [
    "import sys\n",
    "sys.path.insert(0, '../src/libs')"
   ]
  },
  {
   "cell_type": "code",
   "execution_count": 23,
   "metadata": {},
   "outputs": [],
   "source": [
    "# our file imports\n",
    "from music_transformer import *\n",
    "from transformer_training_helpers import *\n",
    "from song_classification import *\n",
    "from dataset import *\n",
    "from midi2audio import FluidSynth\n",
    "\n",
    "# musicautobot\n",
    "from musicautobot.numpy_encode import *\n",
    "from musicautobot.config import *\n",
    "from musicautobot.music_transformer import *\n",
    "from musicautobot.utils.midifile import *\n",
    "from musicautobot.utils.file_processing import process_all"
   ]
  },
  {
   "cell_type": "code",
   "execution_count": 3,
   "metadata": {},
   "outputs": [],
   "source": [
    "def topk_decode(model, src, src_mask, max_len, start_symbol, k):\n",
    "  memory = model.encode(src, src_mask)\n",
    "  ys = torch.ones(1, 1).fill_(start_symbol).type_as(src.data)\n",
    "  for i in range(max_len-1):\n",
    "    out, w2 = model.decode(memory, src_mask,\n",
    "                       Variable(ys),\n",
    "                       Variable(subsequent_mask(ys.size(1))\n",
    "                                .type_as(src.data)))\n",
    "    prob = model.generator(out[:, -1])\n",
    "    _, next_words = torch.topk(prob, k = k, dim = 1)\n",
    "    # if starting, then create \n",
    "    #print(next_words)\n",
    "    if i == 0:\n",
    "      next_word = next_words[0][0].data.item()\n",
    "    else:\n",
    "      k2 = random.randint(0,k-1)\n",
    "      next_word = next_words[0][k2].data.item()\n",
    "    #print(next_word)\n",
    "    #k = random.randint(0,4)\n",
    "    #next_word = next_words[k].data[0]\n",
    "    ys = torch.cat([ys, torch.ones(1, 1).type_as(src.data).fill_(next_word)], dim=1)\n",
    "  \n",
    "  return ys\n",
    "\n",
    "def greedy_decode(model, src, src_mask, max_len, start_symbol):\n",
    "    memory = model.encode(src, src_mask)\n",
    "    ys = torch.ones(1, 1).fill_(start_symbol).type_as(src.data)\n",
    "    for i in range(max_len-1):\n",
    "        out, w2 = model.decode(memory, src_mask, \n",
    "                           Variable(ys), \n",
    "                           Variable(subsequent_mask(ys.size(1))\n",
    "                                    .type_as(src.data)))\n",
    "        prob = model.generator(out[:, -1])\n",
    "        _, next_word = torch.max(prob, dim = 1) # change this for top k\n",
    "        next_word = next_word.data[0]\n",
    "        ys = torch.cat([ys, \n",
    "                        torch.ones(1, 1).type_as(src.data).fill_(next_word)], dim=1)\n",
    "    return ys"
   ]
  },
  {
   "cell_type": "markdown",
   "metadata": {},
   "source": [
    "Load model from previous state"
   ]
  },
  {
   "cell_type": "code",
   "execution_count": 17,
   "metadata": {},
   "outputs": [],
   "source": [
    "myModel = torch.load('../models/new_dataset_epochs_30_LM.pt')"
   ]
  },
  {
   "cell_type": "markdown",
   "metadata": {},
   "source": [
    "Load data"
   ]
  },
  {
   "cell_type": "code",
   "execution_count": 6,
   "metadata": {},
   "outputs": [
    {
     "name": "stdout",
     "output_type": "stream",
     "text": [
      "tensor([[[  0.,   1.,  81.,  ..., 139.,   8., 139.],\n",
      "         [ 52., 139.,  52.,  ..., 143.,  45., 143.],\n",
      "         [  8., 141.,  71.,  ..., 139.,  88., 142.],\n",
      "         ...,\n",
      "         [ 74., 138.,  54.,  ..., 139.,  85., 140.],\n",
      "         [ 50., 139.,  50.,  ..., 143.,  47., 143.],\n",
      "         [  8., 141.,  81.,  ..., 139.,  54., 139.]]])\n"
     ]
    }
   ],
   "source": [
    "myDs = MidiDataset('../numpy_path', 150, 'N/A', '.npy')\n",
    "dataloader = DataLoader(myDs, 1, shuffle=True)\n",
    "\n",
    "for _, item in enumerate(dataloader):\n",
    "    print(item)\n",
    "    break"
   ]
  },
  {
   "cell_type": "code",
   "execution_count": 7,
   "metadata": {},
   "outputs": [],
   "source": [
    "# data_path = './saved_data/'\n",
    "# data_save_name = 'music_item_data_0-10000.pkl'\n",
    "# numpy_path = '../numpy_path'\n",
    "\n",
    "# numpy_files = get_files(numpy_path, extensions='.npy', recurse=True); len(numpy_files)\n",
    "\n",
    "# def create_databunch(files, path):\n",
    "#     #save_file.parent.mkdir(exist_ok=True, parents=True)\n",
    "#     vocab = MusicVocab.create()\n",
    "#     processors = [OpenNPFileProcessor(), MusicItemProcessor()]\n",
    "\n",
    "#     #data = MusicDataBunch.from_files(midi_files, path, processors=processors, encode_position=True)\n",
    "#     data = MusicDataBunch.from_files(files, path, processors=processors, encode_position=True)\n",
    "#     return data\n",
    "\n",
    "# all_data = create_databunch(numpy_files, data_path); all_data"
   ]
  },
  {
   "cell_type": "code",
   "execution_count": 14,
   "metadata": {},
   "outputs": [
    {
     "name": "stdout",
     "output_type": "stream",
     "text": [
      "tensor([[  0.,   1.,   8.,  ..., 141.,  44., 145.],\n",
      "        [  8., 140.,  56.,  ..., 138.,  75., 140.],\n",
      "        [ 51., 141.,  39.,  ..., 157.,  51., 145.],\n",
      "        ...,\n",
      "        [ 70., 138.,   8.,  ..., 140.,  78., 138.],\n",
      "        [ 70., 138.,  66.,  ..., 145.,   8., 141.],\n",
      "        [ 47., 141.,   8.,  ..., 168.,  70., 168.]])\n",
      "torch.Size([7800])\n",
      "tensor([  0.,   1.,   8.,  ..., 168.,  70., 168.])\n"
     ]
    }
   ],
   "source": [
    "print(myDs[0])\n",
    "new_tens = myDs[0].reshape(myDs[0].shape[0] * myDs[0].shape[1])\n",
    "print(new_tens.shape)\n",
    "print(new_tens)"
   ]
  },
  {
   "cell_type": "markdown",
   "metadata": {},
   "source": [
    "Generate topk/greedy outputs from the model"
   ]
  },
  {
   "cell_type": "code",
   "execution_count": 33,
   "metadata": {},
   "outputs": [
    {
     "name": "stdout",
     "output_type": "stream",
     "text": [
      "GREEDY:  tensor([  0, 139, 146, 159, 109, 153,  52, 167, 176,  45, 185, 184, 200,  68,\n",
      "        169,  59, 163,  52, 138,  45,  67, 141,  59, 233,   8, 143,  63, 139,\n",
      "         52, 185,  35, 163, 142,  40, 143,  56,  86,  56,  45, 102,  45, 170,\n",
      "         40,  64,  59, 157,  45, 147,   8, 147,  45, 147,  45,  43, 139,   8,\n",
      "        147,  59, 233,  35,  35, 151,   8, 138,  39, 146,   8,  56, 146,  49,\n",
      "        152,  37, 232,   8, 160,  85, 143,  78, 152,  75, 152,  54, 152,  54,\n",
      "         63, 160,   8, 139,  83, 152, 154,  34,  33,  80,  64, 152,  73, 141,\n",
      "         73, 185, 185,  59,  59,  59,  76, 141,  76, 164,  59, 157,  47, 163,\n",
      "         52, 138,  40, 141,   8, 139,  71, 138,  63, 202, 143, 163, 143,   8,\n",
      "        169,  99, 172, 102, 163,  90,  43, 142,   8, 139,  37, 141,   8, 139,\n",
      "         59,  60, 169,  35, 143,   8, 167,  39, 172,   8], device='cuda:0')\n",
      "TOPK:  tensor([  0, 139, 146, 152,  68, 171,  53, 159, 184,  45, 185,  80, 177,  66,\n",
      "        157, 143,  52, 139,  52, 138,   8, 157,  71, 165,  59, 160,  45, 139,\n",
      "         33, 185,  35, 163,  64,  43, 141,  40, 142,  56, 164,  40,  95, 169,\n",
      "         40,  45, 141,  45, 139,   8,  91, 147,  45, 149,  88, 139,  67,  61,\n",
      "        147,  43, 233,  60, 151,  36,  34, 138,  66, 148,  56, 169,  49, 146,\n",
      "         49, 152,  33,  90, 138,  56,  34,  34, 100, 100, 153,  54, 149,  30,\n",
      "        148,   8, 145, 100, 143,  83, 155,  54,  34, 100, 146, 152, 152,  73,\n",
      "        141,  64, 185, 185,  54,  59,  59,  76, 141,  76, 164,  71,  59, 141,\n",
      "         52, 143,  40, 139,   8, 140,  71, 138,  40, 143, 143, 143, 197,   8,\n",
      "        169, 102, 163,  35,  40, 141,   8, 139,  55, 164,  35, 152,  88, 139,\n",
      "         61,  37, 169,   8, 233,  36, 167,   8, 172,  73], device='cuda:0')\n",
      "SRC:  tensor([  0,   1,  63, 139,  59, 139,  47, 138,   8, 138,  66, 138,   8, 138,\n",
      "         71, 139,  66, 139,  47, 138,  47, 138,   8, 138,  75, 139,   8, 138,\n",
      "         66, 138,  63, 139,  59, 139,   8, 139,  71, 139,  66, 139,  42, 139,\n",
      "         42, 139,   8, 138,  75, 139,   8, 138,  66, 138,  63, 139,  59, 139,\n",
      "         47, 138,  47, 138,   8, 139,  71, 139,  66, 139,  47, 139,  47, 138,\n",
      "          8, 138,  75, 139,   8, 138,  66, 138,  63, 139,  59, 139,   8, 139,\n",
      "         75, 139,  71, 139,  66, 139,  42, 139,   8, 139,  68, 139,  64, 139,\n",
      "         59, 139], device='cuda:0')\n",
      "TOPK:  0.01\n",
      "GREEDY:  0.01\n"
     ]
    }
   ],
   "source": [
    "myModel.eval()\n",
    "# ['a','b','c','d','e','f','g','h','i','j','k','l','m','n','o','p','q','r','s','t','u','v','w','x','y','z']\n",
    "#src = Variable(torch.LongTensor([[1,2,3,4,5,6,7,8,9,10]]))\n",
    "#src = Variable(torch.LongTensor([[1,2,3,4,5,6,7,8,9,10,11,12,13,14,15,16,17,18,19,20,21,22,23,24,25,26]])).cuda()\n",
    "idx = 1\n",
    "src = myDs[idx].reshape(myDs[idx].shape[0] * myDs[idx].shape[1])[:100].unsqueeze(dim=0).long().cuda() # all_data.valid_ds[1][0].to_tensor()[:100].unsqueeze(dim=0)\n",
    "#print(src.size())\n",
    "src_mask = Variable(torch.ones(1, 1, 100)).unsqueeze(dim=0).cuda() # 26 was 10\n",
    "output = greedy_decode(myModel.cuda(), src, src_mask, max_len=150, start_symbol=0)\n",
    "output2 = topk_decode(myModel.cuda(), src, src_mask, max_len=150, start_symbol=0, k=2)\n",
    "\n",
    "#print(output2[0])\n",
    "#print(output[0])\n",
    "\n",
    "output.cuda()\n",
    "output2.cuda()\n",
    "\n",
    "print(\"GREEDY: \", output[0])\n",
    "print(\"TOPK: \", output2[0])\n",
    "print(\"SRC: \", src[0])\n",
    "\n",
    "ncorrect = 0\n",
    "for i in range(len(src)):\n",
    "  if src[0][i] == output2[0][i]:\n",
    "    ncorrect += 1\n",
    "print(\"TOPK: \", ncorrect / len(src[0]))\n",
    "\n",
    "ncorrect = 0\n",
    "for i in range(len(src)):\n",
    "  if src[0][i] == output[0][i]:\n",
    "    ncorrect += 1\n",
    "print(\"GREEDY: \", ncorrect / len(src[0]))"
   ]
  },
  {
   "cell_type": "markdown",
   "metadata": {},
   "source": [
    "Convert outputs to .mid"
   ]
  },
  {
   "cell_type": "code",
   "execution_count": 51,
   "metadata": {},
   "outputs": [
    {
     "name": "stdout",
     "output_type": "stream",
     "text": [
      "SRC.SHP:  torch.Size([1, 100])\n",
      "OUTPUT.SHP:  torch.Size([1, 150])\n",
      "OUTPUT2.SHP:  torch.Size([1, 150])\n",
      "tensor([[  0,   1,  63, 139,  59, 139,  47, 138,   8, 138,  66, 138,   8, 138,\n",
      "          71, 139,  66, 139,  47, 138,  47, 138,   8, 138,  75, 139,   8, 138,\n",
      "          66, 138,  63, 139,  59, 139,   8, 139,  71, 139,  66, 139,  42, 139,\n",
      "          42, 139,   8, 138,  75, 139,   8, 138,  66, 138,  63, 139,  59, 139,\n",
      "          47, 138,  47, 138,   8, 139,  71, 139,  66, 139,  47, 139,  47, 138,\n",
      "           8, 138,  75, 139,   8, 138,  66, 138,  63, 139,  59, 139,   8, 139,\n",
      "          75, 139,  71, 139,  66, 139,  42, 139,   8, 139,  68, 139,  64, 139,\n",
      "          59, 139]], device='cuda:0')\n",
      "tensor([[  0,   1, 146, 159, 109, 153,  52, 167, 176,  45, 185, 184, 200,  68,\n",
      "         169,  59, 163,  52, 138,  45,  67, 141,  59, 233,   8, 143,  63, 139,\n",
      "          52, 185,  35, 163, 142,  40, 143,  56,  86,  56,  45, 102,  45, 170,\n",
      "          40,  64,  59, 157,  45, 147,   8, 147,  45, 147,  45,  43, 139,   8,\n",
      "         147,  59, 233,  35,  35, 151,   8, 138,  39, 146,   8,  56, 146,  49,\n",
      "         152,  37, 232,   8, 160,  85, 143,  78, 152,  75, 152,  54, 152,  54,\n",
      "          63, 160,   8, 139,  83, 152, 154,  34,  33,  80,  64, 152,  73, 141,\n",
      "          73, 185, 185,  59,  59,  59,  76, 141,  76, 164,  59, 157,  47, 163,\n",
      "          52, 138,  40, 141,   8, 139,  71, 138,  63, 202, 143, 163, 143,   8,\n",
      "         169,  99, 172, 102, 163,  90,  43, 142,   8, 139,  37, 141,   8, 139,\n",
      "          59,  60, 169,  35, 143,   8, 167,  39, 172,   8]], device='cuda:0')\n",
      "tensor([[  0,   1, 146, 152,  68, 171,  53, 159, 184,  45, 185,  80, 177,  66,\n",
      "         157, 143,  52, 139,  52, 138,   8, 157,  71, 165,  59, 160,  45, 139,\n",
      "          33, 185,  35, 163,  64,  43, 141,  40, 142,  56, 164,  40,  95, 169,\n",
      "          40,  45, 141,  45, 139,   8,  91, 147,  45, 149,  88, 139,  67,  61,\n",
      "         147,  43, 233,  60, 151,  36,  34, 138,  66, 148,  56, 169,  49, 146,\n",
      "          49, 152,  33,  90, 138,  56,  34,  34, 100, 100, 153,  54, 149,  30,\n",
      "         148,   8, 145, 100, 143,  83, 155,  54,  34, 100, 146, 152, 152,  73,\n",
      "         141,  64, 185, 185,  54,  59,  59,  76, 141,  76, 164,  71,  59, 141,\n",
      "          52, 143,  40, 139,   8, 140,  71, 138,  40, 143, 143, 143, 197,   8,\n",
      "         169, 102, 163,  35,  40, 141,   8, 139,  55, 164,  35, 152,  88, 139,\n",
      "          61,  37, 169,   8, 233,  36, 167,   8, 172,  73]], device='cuda:0')\n",
      "xxbos xxpad n54 d2 n50 d2 n38 d1 xxsep d1 n57 d1 xxsep d1 n62 d2 n57 d2 n38 d1 n38 d1 xxsep d1 n66 d2 xxsep d1 n57 d1 n54 d2 n50 d2 xxsep d2 n62 d2 n57 d2 n33 d2 n33 d2 xxsep d1 n66 d2 xxsep d1 n57 d1 n54 d2 n50 d2 n38 d1 n38 d1 xxsep d2 n62 d2 n57 d2 n38 d2 n38 d1 xxsep d1 n66 d2 xxsep d1 n57 d1 n54 d2 n50 d2 xxsep d2 n66 d2 n62 d2 n57 d2 n33 d2 xxsep d2 n59 d2 n55 d2 n50 d2\n",
      "Non midi note detected. Only returning valid portion. Index, seed 3 (74, 2)\n"
     ]
    },
    {
     "ename": "IndexError",
     "evalue": "index 137 is out of bounds for axis 2 with size 128",
     "output_type": "error",
     "traceback": [
      "\u001b[1;31m---------------------------------------------------------------------------\u001b[0m",
      "\u001b[1;31mIndexError\u001b[0m                                Traceback (most recent call last)",
      "\u001b[1;32m~\\AppData\\Local\\Temp/ipykernel_9904/858020201.py\u001b[0m in \u001b[0;36m<module>\u001b[1;34m\u001b[0m\n\u001b[0;32m     22\u001b[0m \u001b[1;33m\u001b[0m\u001b[0m\n\u001b[0;32m     23\u001b[0m \u001b[0mMI\u001b[0m\u001b[1;33m.\u001b[0m\u001b[0mstream\u001b[0m\u001b[1;33m.\u001b[0m\u001b[0mwrite\u001b[0m\u001b[1;33m(\u001b[0m\u001b[1;34m'midi'\u001b[0m\u001b[1;33m,\u001b[0m \u001b[0mfp\u001b[0m\u001b[1;33m=\u001b[0m\u001b[1;34m'./temp_outputs/inp.mid'\u001b[0m\u001b[1;33m)\u001b[0m\u001b[1;33m\u001b[0m\u001b[1;33m\u001b[0m\u001b[0m\n\u001b[1;32m---> 24\u001b[1;33m \u001b[0mMO\u001b[0m\u001b[1;33m.\u001b[0m\u001b[0mstream\u001b[0m\u001b[1;33m.\u001b[0m\u001b[0mwrite\u001b[0m\u001b[1;33m(\u001b[0m\u001b[1;34m'midi'\u001b[0m\u001b[1;33m,\u001b[0m \u001b[0mfp\u001b[0m\u001b[1;33m=\u001b[0m\u001b[1;34m'./temp_outputs/pred.mid'\u001b[0m\u001b[1;33m)\u001b[0m\u001b[1;33m\u001b[0m\u001b[1;33m\u001b[0m\u001b[0m\n\u001b[0m\u001b[0;32m     25\u001b[0m \u001b[0mMT\u001b[0m\u001b[1;33m.\u001b[0m\u001b[0mstream\u001b[0m\u001b[1;33m.\u001b[0m\u001b[0mwrite\u001b[0m\u001b[1;33m(\u001b[0m\u001b[1;34m'midi'\u001b[0m\u001b[1;33m,\u001b[0m \u001b[0mfp\u001b[0m\u001b[1;33m=\u001b[0m\u001b[1;34m'./temp_outputs/topk.mid'\u001b[0m\u001b[1;33m)\u001b[0m\u001b[1;33m\u001b[0m\u001b[1;33m\u001b[0m\u001b[0m\n\u001b[0;32m     26\u001b[0m \u001b[1;33m\u001b[0m\u001b[0m\n",
      "\u001b[1;32m~\\AppData\\Local\\Packages\\PythonSoftwareFoundation.Python.3.8_qbz5n2kfra8p0\\LocalCache\\local-packages\\Python38\\site-packages\\musicautobot\\music_transformer\\transform.py\u001b[0m in \u001b[0;36mstream\u001b[1;34m(self)\u001b[0m\n\u001b[0;32m     43\u001b[0m     \u001b[1;33m@\u001b[0m\u001b[0mproperty\u001b[0m\u001b[1;33m\u001b[0m\u001b[1;33m\u001b[0m\u001b[0m\n\u001b[0;32m     44\u001b[0m     \u001b[1;32mdef\u001b[0m \u001b[0mstream\u001b[0m\u001b[1;33m(\u001b[0m\u001b[0mself\u001b[0m\u001b[1;33m)\u001b[0m\u001b[1;33m:\u001b[0m\u001b[1;33m\u001b[0m\u001b[1;33m\u001b[0m\u001b[0m\n\u001b[1;32m---> 45\u001b[1;33m         \u001b[0mself\u001b[0m\u001b[1;33m.\u001b[0m\u001b[0m_stream\u001b[0m \u001b[1;33m=\u001b[0m \u001b[0mself\u001b[0m\u001b[1;33m.\u001b[0m\u001b[0mto_stream\u001b[0m\u001b[1;33m(\u001b[0m\u001b[1;33m)\u001b[0m \u001b[1;32mif\u001b[0m \u001b[0mself\u001b[0m\u001b[1;33m.\u001b[0m\u001b[0m_stream\u001b[0m \u001b[1;32mis\u001b[0m \u001b[1;32mNone\u001b[0m \u001b[1;32melse\u001b[0m \u001b[0mself\u001b[0m\u001b[1;33m.\u001b[0m\u001b[0m_stream\u001b[0m\u001b[1;33m\u001b[0m\u001b[1;33m\u001b[0m\u001b[0m\n\u001b[0m\u001b[0;32m     46\u001b[0m         \u001b[1;32mreturn\u001b[0m \u001b[0mself\u001b[0m\u001b[1;33m.\u001b[0m\u001b[0m_stream\u001b[0m\u001b[1;33m\u001b[0m\u001b[1;33m\u001b[0m\u001b[0m\n\u001b[0;32m     47\u001b[0m \u001b[1;33m\u001b[0m\u001b[0m\n",
      "\u001b[1;32m~\\AppData\\Local\\Packages\\PythonSoftwareFoundation.Python.3.8_qbz5n2kfra8p0\\LocalCache\\local-packages\\Python38\\site-packages\\musicautobot\\music_transformer\\transform.py\u001b[0m in \u001b[0;36mto_stream\u001b[1;34m(self, bpm)\u001b[0m\n\u001b[0;32m     47\u001b[0m \u001b[1;33m\u001b[0m\u001b[0m\n\u001b[0;32m     48\u001b[0m     \u001b[1;32mdef\u001b[0m \u001b[0mto_stream\u001b[0m\u001b[1;33m(\u001b[0m\u001b[0mself\u001b[0m\u001b[1;33m,\u001b[0m \u001b[0mbpm\u001b[0m\u001b[1;33m=\u001b[0m\u001b[1;36m120\u001b[0m\u001b[1;33m)\u001b[0m\u001b[1;33m:\u001b[0m\u001b[1;33m\u001b[0m\u001b[1;33m\u001b[0m\u001b[0m\n\u001b[1;32m---> 49\u001b[1;33m         \u001b[1;32mreturn\u001b[0m \u001b[0midxenc2stream\u001b[0m\u001b[1;33m(\u001b[0m\u001b[0mself\u001b[0m\u001b[1;33m.\u001b[0m\u001b[0mdata\u001b[0m\u001b[1;33m,\u001b[0m \u001b[0mself\u001b[0m\u001b[1;33m.\u001b[0m\u001b[0mvocab\u001b[0m\u001b[1;33m,\u001b[0m \u001b[0mbpm\u001b[0m\u001b[1;33m=\u001b[0m\u001b[0mbpm\u001b[0m\u001b[1;33m)\u001b[0m\u001b[1;33m\u001b[0m\u001b[1;33m\u001b[0m\u001b[0m\n\u001b[0m\u001b[0;32m     50\u001b[0m \u001b[1;33m\u001b[0m\u001b[0m\n\u001b[0;32m     51\u001b[0m     \u001b[1;32mdef\u001b[0m \u001b[0mto_tensor\u001b[0m\u001b[1;33m(\u001b[0m\u001b[0mself\u001b[0m\u001b[1;33m,\u001b[0m \u001b[0mdevice\u001b[0m\u001b[1;33m=\u001b[0m\u001b[1;32mNone\u001b[0m\u001b[1;33m)\u001b[0m\u001b[1;33m:\u001b[0m\u001b[1;33m\u001b[0m\u001b[1;33m\u001b[0m\u001b[0m\n",
      "\u001b[1;32m~\\AppData\\Local\\Packages\\PythonSoftwareFoundation.Python.3.8_qbz5n2kfra8p0\\LocalCache\\local-packages\\Python38\\site-packages\\musicautobot\\music_transformer\\transform.py\u001b[0m in \u001b[0;36midxenc2stream\u001b[1;34m(arr, vocab, bpm)\u001b[0m\n\u001b[0;32m    126\u001b[0m     \u001b[1;34m\"Converts index encoding to music21 stream\"\u001b[0m\u001b[1;33m\u001b[0m\u001b[1;33m\u001b[0m\u001b[0m\n\u001b[0;32m    127\u001b[0m     \u001b[0mnpenc\u001b[0m \u001b[1;33m=\u001b[0m \u001b[0midxenc2npenc\u001b[0m\u001b[1;33m(\u001b[0m\u001b[0marr\u001b[0m\u001b[1;33m,\u001b[0m \u001b[0mvocab\u001b[0m\u001b[1;33m)\u001b[0m\u001b[1;33m\u001b[0m\u001b[1;33m\u001b[0m\u001b[0m\n\u001b[1;32m--> 128\u001b[1;33m     \u001b[1;32mreturn\u001b[0m \u001b[0mnpenc2stream\u001b[0m\u001b[1;33m(\u001b[0m\u001b[0mnpenc\u001b[0m\u001b[1;33m,\u001b[0m \u001b[0mbpm\u001b[0m\u001b[1;33m=\u001b[0m\u001b[0mbpm\u001b[0m\u001b[1;33m)\u001b[0m\u001b[1;33m\u001b[0m\u001b[1;33m\u001b[0m\u001b[0m\n\u001b[0m\u001b[0;32m    129\u001b[0m \u001b[1;33m\u001b[0m\u001b[0m\n\u001b[0;32m    130\u001b[0m \u001b[1;31m# single stream instead of note,dur\u001b[0m\u001b[1;33m\u001b[0m\u001b[1;33m\u001b[0m\u001b[1;33m\u001b[0m\u001b[0m\n",
      "\u001b[1;32m~\\AppData\\Local\\Packages\\PythonSoftwareFoundation.Python.3.8_qbz5n2kfra8p0\\LocalCache\\local-packages\\Python38\\site-packages\\musicautobot\\numpy_encode.py\u001b[0m in \u001b[0;36mnpenc2stream\u001b[1;34m(arr, bpm)\u001b[0m\n\u001b[0;32m     32\u001b[0m \u001b[1;32mdef\u001b[0m \u001b[0mnpenc2stream\u001b[0m\u001b[1;33m(\u001b[0m\u001b[0marr\u001b[0m\u001b[1;33m,\u001b[0m \u001b[0mbpm\u001b[0m\u001b[1;33m=\u001b[0m\u001b[1;36m120\u001b[0m\u001b[1;33m)\u001b[0m\u001b[1;33m:\u001b[0m\u001b[1;33m\u001b[0m\u001b[1;33m\u001b[0m\u001b[0m\n\u001b[0;32m     33\u001b[0m     \u001b[1;34m\"Converts numpy encoding to music21 stream\"\u001b[0m\u001b[1;33m\u001b[0m\u001b[1;33m\u001b[0m\u001b[0m\n\u001b[1;32m---> 34\u001b[1;33m     \u001b[0mchordarr\u001b[0m \u001b[1;33m=\u001b[0m \u001b[0mnpenc2chordarr\u001b[0m\u001b[1;33m(\u001b[0m\u001b[0mnp\u001b[0m\u001b[1;33m.\u001b[0m\u001b[0marray\u001b[0m\u001b[1;33m(\u001b[0m\u001b[0marr\u001b[0m\u001b[1;33m)\u001b[0m\u001b[1;33m)\u001b[0m \u001b[1;31m# 1.\u001b[0m\u001b[1;33m\u001b[0m\u001b[1;33m\u001b[0m\u001b[0m\n\u001b[0m\u001b[0;32m     35\u001b[0m     \u001b[1;32mreturn\u001b[0m \u001b[0mchordarr2stream\u001b[0m\u001b[1;33m(\u001b[0m\u001b[0mchordarr\u001b[0m\u001b[1;33m,\u001b[0m \u001b[0mbpm\u001b[0m\u001b[1;33m=\u001b[0m\u001b[0mbpm\u001b[0m\u001b[1;33m)\u001b[0m \u001b[1;31m# 2.\u001b[0m\u001b[1;33m\u001b[0m\u001b[1;33m\u001b[0m\u001b[0m\n\u001b[0;32m     36\u001b[0m \u001b[1;33m\u001b[0m\u001b[0m\n",
      "\u001b[1;32m~\\AppData\\Local\\Packages\\PythonSoftwareFoundation.Python.3.8_qbz5n2kfra8p0\\LocalCache\\local-packages\\Python38\\site-packages\\musicautobot\\numpy_encode.py\u001b[0m in \u001b[0;36mnpenc2chordarr\u001b[1;34m(npenc, note_size)\u001b[0m\n\u001b[0;32m    133\u001b[0m             \u001b[0midx\u001b[0m \u001b[1;33m+=\u001b[0m \u001b[0md\u001b[0m\u001b[1;33m\u001b[0m\u001b[1;33m\u001b[0m\u001b[0m\n\u001b[0;32m    134\u001b[0m             \u001b[1;32mcontinue\u001b[0m\u001b[1;33m\u001b[0m\u001b[1;33m\u001b[0m\u001b[0m\n\u001b[1;32m--> 135\u001b[1;33m         \u001b[0mscore_arr\u001b[0m\u001b[1;33m[\u001b[0m\u001b[0midx\u001b[0m\u001b[1;33m,\u001b[0m\u001b[0mi\u001b[0m\u001b[1;33m,\u001b[0m\u001b[0mn\u001b[0m\u001b[1;33m]\u001b[0m \u001b[1;33m=\u001b[0m \u001b[0md\u001b[0m\u001b[1;33m\u001b[0m\u001b[1;33m\u001b[0m\u001b[0m\n\u001b[0m\u001b[0;32m    136\u001b[0m     \u001b[1;32mreturn\u001b[0m \u001b[0mscore_arr\u001b[0m\u001b[1;33m\u001b[0m\u001b[1;33m\u001b[0m\u001b[0m\n\u001b[0;32m    137\u001b[0m \u001b[1;33m\u001b[0m\u001b[0m\n",
      "\u001b[1;31mIndexError\u001b[0m: index 137 is out of bounds for axis 2 with size 128"
     ]
    }
   ],
   "source": [
    "%matplotlib inline\n",
    "from music21 import *\n",
    "import fluidsynth\n",
    "#environment.set()\n",
    "#print(output)\n",
    "output[0, 1] = 1\n",
    "output2[0, 1] = 1\n",
    "#print(src.cpu().numpy())\n",
    "temp_vocab = MusicVocab.create()\n",
    "#print(temp_vocab.stoi)\n",
    "MI = temp_vocab.to_music_item(src.cpu().numpy()[0])\n",
    "MO = temp_vocab.to_music_item(output.cpu().numpy()[0])\n",
    "MT = temp_vocab.to_music_item(output2.cpu().numpy()[0])\n",
    "print(\"SRC.SHP: \", src.shape)\n",
    "print(\"OUTPUT.SHP: \", output.shape)\n",
    "print(\"OUTPUT2.SHP: \", output2.shape)\n",
    "print(src)\n",
    "print(output)\n",
    "print(output2)\n",
    "print(MI.to_text())\n",
    "#print(MO.to_text())\n",
    "\n",
    "MI.stream.write('midi', fp='./temp_outputs/inp.mid')\n",
    "MO.stream.write('midi', fp='./temp_outputs/pred.mid')\n",
    "MT.stream.write('midi', fp='./temp_outputs/topk.mid')\n",
    "\n",
    "#path = os.path.join('./','inp.mid')\n",
    "#print_play_mid('./inp.mid')\n",
    "#print_mid('./inp.mid')\n",
    "#print_mid('./pred.mid')\n",
    "#print_mid('./topk.mid')"
   ]
  },
  {
   "cell_type": "markdown",
   "metadata": {},
   "source": [
    "Classify generated song's musical key"
   ]
  },
  {
   "cell_type": "code",
   "execution_count": 49,
   "metadata": {},
   "outputs": [
    {
     "ename": "FileNotFoundError",
     "evalue": "Cannot find file in ./temp_outputs/topk.mid",
     "output_type": "error",
     "traceback": [
      "\u001b[1;31m---------------------------------------------------------------------------\u001b[0m",
      "\u001b[1;31mFileNotFoundError\u001b[0m                         Traceback (most recent call last)",
      "\u001b[1;32m~\\AppData\\Local\\Temp/ipykernel_9904/3143260647.py\u001b[0m in \u001b[0;36m<module>\u001b[1;34m\u001b[0m\n\u001b[0;32m      1\u001b[0m \u001b[0msrc_mitem\u001b[0m \u001b[1;33m=\u001b[0m \u001b[0mMusicItem\u001b[0m\u001b[1;33m.\u001b[0m\u001b[0mfrom_file\u001b[0m\u001b[1;33m(\u001b[0m\u001b[1;34m'./temp_outputs/inp.mid'\u001b[0m\u001b[1;33m,\u001b[0m \u001b[0mMusicVocab\u001b[0m\u001b[1;33m.\u001b[0m\u001b[0mcreate\u001b[0m\u001b[1;33m(\u001b[0m\u001b[1;33m)\u001b[0m\u001b[1;33m)\u001b[0m\u001b[1;33m\u001b[0m\u001b[1;33m\u001b[0m\u001b[0m\n\u001b[1;32m----> 2\u001b[1;33m \u001b[0mm_item\u001b[0m \u001b[1;33m=\u001b[0m \u001b[0mMusicItem\u001b[0m\u001b[1;33m.\u001b[0m\u001b[0mfrom_file\u001b[0m\u001b[1;33m(\u001b[0m\u001b[1;34m'./temp_outputs/topk.mid'\u001b[0m\u001b[1;33m,\u001b[0m \u001b[0mMusicVocab\u001b[0m\u001b[1;33m.\u001b[0m\u001b[0mcreate\u001b[0m\u001b[1;33m(\u001b[0m\u001b[1;33m)\u001b[0m\u001b[1;33m)\u001b[0m\u001b[1;33m\u001b[0m\u001b[1;33m\u001b[0m\u001b[0m\n\u001b[0m\u001b[0;32m      3\u001b[0m \u001b[0mm_item2\u001b[0m \u001b[1;33m=\u001b[0m \u001b[0mMusicItem\u001b[0m\u001b[1;33m.\u001b[0m\u001b[0mfrom_file\u001b[0m\u001b[1;33m(\u001b[0m\u001b[1;34m'./temp_outputs/pred.mid'\u001b[0m\u001b[1;33m,\u001b[0m \u001b[0mMusicVocab\u001b[0m\u001b[1;33m.\u001b[0m\u001b[0mcreate\u001b[0m\u001b[1;33m(\u001b[0m\u001b[1;33m)\u001b[0m\u001b[1;33m)\u001b[0m\u001b[1;33m\u001b[0m\u001b[1;33m\u001b[0m\u001b[0m\n\u001b[0;32m      4\u001b[0m \u001b[0mprint\u001b[0m\u001b[1;33m(\u001b[0m\u001b[0msrc_mitem\u001b[0m\u001b[1;33m.\u001b[0m\u001b[0mto_text\u001b[0m\u001b[1;33m(\u001b[0m\u001b[1;33m)\u001b[0m\u001b[1;33m)\u001b[0m\u001b[1;33m\u001b[0m\u001b[1;33m\u001b[0m\u001b[0m\n\u001b[0;32m      5\u001b[0m \u001b[0mprint\u001b[0m\u001b[1;33m(\u001b[0m\u001b[0mint_to_note\u001b[0m\u001b[1;33m(\u001b[0m\u001b[1;36m34\u001b[0m\u001b[1;33m)\u001b[0m\u001b[1;33m)\u001b[0m\u001b[1;33m\u001b[0m\u001b[1;33m\u001b[0m\u001b[0m\n",
      "\u001b[1;32m~\\AppData\\Local\\Packages\\PythonSoftwareFoundation.Python.3.8_qbz5n2kfra8p0\\LocalCache\\local-packages\\Python38\\site-packages\\musicautobot\\music_transformer\\transform.py\u001b[0m in \u001b[0;36mfrom_file\u001b[1;34m(cls, midi_file, vocab)\u001b[0m\n\u001b[0;32m     21\u001b[0m     \u001b[1;33m@\u001b[0m\u001b[0mclassmethod\u001b[0m\u001b[1;33m\u001b[0m\u001b[1;33m\u001b[0m\u001b[0m\n\u001b[0;32m     22\u001b[0m     \u001b[1;32mdef\u001b[0m \u001b[0mfrom_file\u001b[0m\u001b[1;33m(\u001b[0m\u001b[0mcls\u001b[0m\u001b[1;33m,\u001b[0m \u001b[0mmidi_file\u001b[0m\u001b[1;33m,\u001b[0m \u001b[0mvocab\u001b[0m\u001b[1;33m)\u001b[0m\u001b[1;33m:\u001b[0m\u001b[1;33m\u001b[0m\u001b[1;33m\u001b[0m\u001b[0m\n\u001b[1;32m---> 23\u001b[1;33m         \u001b[1;32mreturn\u001b[0m \u001b[0mcls\u001b[0m\u001b[1;33m.\u001b[0m\u001b[0mfrom_stream\u001b[0m\u001b[1;33m(\u001b[0m\u001b[0mfile2stream\u001b[0m\u001b[1;33m(\u001b[0m\u001b[0mmidi_file\u001b[0m\u001b[1;33m)\u001b[0m\u001b[1;33m,\u001b[0m \u001b[0mvocab\u001b[0m\u001b[1;33m)\u001b[0m\u001b[1;33m\u001b[0m\u001b[1;33m\u001b[0m\u001b[0m\n\u001b[0m\u001b[0;32m     24\u001b[0m     \u001b[1;33m@\u001b[0m\u001b[0mclassmethod\u001b[0m\u001b[1;33m\u001b[0m\u001b[1;33m\u001b[0m\u001b[0m\n\u001b[0;32m     25\u001b[0m     \u001b[1;32mdef\u001b[0m \u001b[0mfrom_stream\u001b[0m\u001b[1;33m(\u001b[0m\u001b[0mcls\u001b[0m\u001b[1;33m,\u001b[0m \u001b[0mstream\u001b[0m\u001b[1;33m,\u001b[0m \u001b[0mvocab\u001b[0m\u001b[1;33m)\u001b[0m\u001b[1;33m:\u001b[0m\u001b[1;33m\u001b[0m\u001b[1;33m\u001b[0m\u001b[0m\n",
      "\u001b[1;32m~\\AppData\\Local\\Packages\\PythonSoftwareFoundation.Python.3.8_qbz5n2kfra8p0\\LocalCache\\local-packages\\Python38\\site-packages\\musicautobot\\numpy_encode.py\u001b[0m in \u001b[0;36mfile2stream\u001b[1;34m(fp)\u001b[0m\n\u001b[0;32m     41\u001b[0m \u001b[1;32mdef\u001b[0m \u001b[0mfile2stream\u001b[0m\u001b[1;33m(\u001b[0m\u001b[0mfp\u001b[0m\u001b[1;33m)\u001b[0m\u001b[1;33m:\u001b[0m\u001b[1;33m\u001b[0m\u001b[1;33m\u001b[0m\u001b[0m\n\u001b[0;32m     42\u001b[0m     \u001b[1;32mif\u001b[0m \u001b[0misinstance\u001b[0m\u001b[1;33m(\u001b[0m\u001b[0mfp\u001b[0m\u001b[1;33m,\u001b[0m \u001b[0mmusic21\u001b[0m\u001b[1;33m.\u001b[0m\u001b[0mmidi\u001b[0m\u001b[1;33m.\u001b[0m\u001b[0mMidiFile\u001b[0m\u001b[1;33m)\u001b[0m\u001b[1;33m:\u001b[0m \u001b[1;32mreturn\u001b[0m \u001b[0mmusic21\u001b[0m\u001b[1;33m.\u001b[0m\u001b[0mmidi\u001b[0m\u001b[1;33m.\u001b[0m\u001b[0mtranslate\u001b[0m\u001b[1;33m.\u001b[0m\u001b[0mmidiFileToStream\u001b[0m\u001b[1;33m(\u001b[0m\u001b[0mfp\u001b[0m\u001b[1;33m)\u001b[0m\u001b[1;33m\u001b[0m\u001b[1;33m\u001b[0m\u001b[0m\n\u001b[1;32m---> 43\u001b[1;33m     \u001b[1;32mreturn\u001b[0m \u001b[0mmusic21\u001b[0m\u001b[1;33m.\u001b[0m\u001b[0mconverter\u001b[0m\u001b[1;33m.\u001b[0m\u001b[0mparse\u001b[0m\u001b[1;33m(\u001b[0m\u001b[0mfp\u001b[0m\u001b[1;33m)\u001b[0m\u001b[1;33m\u001b[0m\u001b[1;33m\u001b[0m\u001b[0m\n\u001b[0m\u001b[0;32m     44\u001b[0m \u001b[1;33m\u001b[0m\u001b[0m\n\u001b[0;32m     45\u001b[0m \u001b[1;31m# 2.\u001b[0m\u001b[1;33m\u001b[0m\u001b[1;33m\u001b[0m\u001b[1;33m\u001b[0m\u001b[0m\n",
      "\u001b[1;32m~\\AppData\\Local\\Packages\\PythonSoftwareFoundation.Python.3.8_qbz5n2kfra8p0\\LocalCache\\local-packages\\Python38\\site-packages\\music21\\converter\\__init__.py\u001b[0m in \u001b[0;36mparse\u001b[1;34m(value, *args, **keywords)\u001b[0m\n\u001b[0;32m   1181\u001b[0m     \u001b[1;32melif\u001b[0m \u001b[1;33m(\u001b[0m\u001b[0misinstance\u001b[0m\u001b[1;33m(\u001b[0m\u001b[0mvalue\u001b[0m\u001b[1;33m,\u001b[0m \u001b[0mstr\u001b[0m\u001b[1;33m)\u001b[0m \u001b[1;32mand\u001b[0m \u001b[0mcommon\u001b[0m\u001b[1;33m.\u001b[0m\u001b[0mfindFormatFile\u001b[0m\u001b[1;33m(\u001b[0m\u001b[0mvalue\u001b[0m\u001b[1;33m)\u001b[0m \u001b[1;32mis\u001b[0m \u001b[1;32mnot\u001b[0m \u001b[1;32mNone\u001b[0m\u001b[1;33m)\u001b[0m\u001b[1;33m:\u001b[0m\u001b[1;33m\u001b[0m\u001b[1;33m\u001b[0m\u001b[0m\n\u001b[0;32m   1182\u001b[0m         \u001b[1;31m# assume mistyped file path\u001b[0m\u001b[1;33m\u001b[0m\u001b[1;33m\u001b[0m\u001b[1;33m\u001b[0m\u001b[0m\n\u001b[1;32m-> 1183\u001b[1;33m         \u001b[1;32mraise\u001b[0m \u001b[0mFileNotFoundError\u001b[0m\u001b[1;33m(\u001b[0m\u001b[1;34mf'Cannot find file in {str(value)}'\u001b[0m\u001b[1;33m)\u001b[0m\u001b[1;33m\u001b[0m\u001b[1;33m\u001b[0m\u001b[0m\n\u001b[0m\u001b[0;32m   1184\u001b[0m     \u001b[1;32melse\u001b[0m\u001b[1;33m:\u001b[0m\u001b[1;33m\u001b[0m\u001b[1;33m\u001b[0m\u001b[0m\n\u001b[0;32m   1185\u001b[0m         \u001b[1;32mreturn\u001b[0m \u001b[0mparseData\u001b[0m\u001b[1;33m(\u001b[0m\u001b[0mvalue\u001b[0m\u001b[1;33m,\u001b[0m \u001b[0mnumber\u001b[0m\u001b[1;33m=\u001b[0m\u001b[0mnumber\u001b[0m\u001b[1;33m,\u001b[0m \u001b[0mformat\u001b[0m\u001b[1;33m=\u001b[0m\u001b[0mm21Format\u001b[0m\u001b[1;33m,\u001b[0m \u001b[1;33m**\u001b[0m\u001b[0mkeywords\u001b[0m\u001b[1;33m)\u001b[0m\u001b[1;33m\u001b[0m\u001b[1;33m\u001b[0m\u001b[0m\n",
      "\u001b[1;31mFileNotFoundError\u001b[0m: Cannot find file in ./temp_outputs/topk.mid"
     ]
    }
   ],
   "source": [
    "src_mitem = MusicItem.from_file('./temp_outputs/inp.mid', MusicVocab.create())\n",
    "m_item = MusicItem.from_file('./temp_outputs/topk.mid', MusicVocab.create())\n",
    "m_item2 = MusicItem.from_file('./temp_outputs/pred.mid', MusicVocab.create())\n",
    "print(src_mitem.to_text())\n",
    "print(int_to_note(34))\n",
    "print(calculate_score(src_mitem))\n",
    "print(calculate_score(m_item))\n",
    "print(calculate_score(m_item2))"
   ]
  },
  {
   "cell_type": "markdown",
   "metadata": {},
   "source": [
    "Convert .mid to .wav"
   ]
  },
  {
   "cell_type": "code",
   "execution_count": 50,
   "metadata": {},
   "outputs": [],
   "source": [
    "filepath = './temp_outputs/inp.mid'\n",
    "fs = FluidSynth(sound_font='./FluidR3_GM.sf2')\n",
    "fs.midi_to_audio(filepath, '{}.wav'.format(filepath))"
   ]
  }
 ],
 "metadata": {
  "interpreter": {
   "hash": "95fee283cad2380c3bbb086be18af1e1d950b8d84e571fde4cd1d4f314b30685"
  },
  "kernelspec": {
   "display_name": "Python 3.8.10 64-bit (windows store)",
   "language": "python",
   "name": "python3"
  },
  "language_info": {
   "codemirror_mode": {
    "name": "ipython",
    "version": 3
   },
   "file_extension": ".py",
   "mimetype": "text/x-python",
   "name": "python",
   "nbconvert_exporter": "python",
   "pygments_lexer": "ipython3",
   "version": "3.8.10"
  },
  "orig_nbformat": 4
 },
 "nbformat": 4,
 "nbformat_minor": 2
}
