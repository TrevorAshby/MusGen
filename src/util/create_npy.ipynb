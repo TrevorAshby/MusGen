{
  "nbformat": 4,
  "nbformat_minor": 0,
  "metadata": {
    "colab": {
      "name": "create_npy.ipynb",
      "provenance": []
    },
    "kernelspec": {
      "name": "python3",
      "display_name": "Python 3"
    },
    "language_info": {
      "name": "python"
    }
  },
  "cells": [
    {
      "cell_type": "code",
      "source": [
        "!pip install musicautobot\n",
        "!pip install pebble\n",
        "import pickle as pkl\n",
        "#---------for annotated transformer--------\n",
        "import torch\n",
        "import torch.nn as nn\n",
        "import torch.nn.functional as F\n",
        "import math, copy, time\n",
        "from copy import deepcopy\n",
        "from torch.autograd import Variable\n",
        "import matplotlib.pyplot as plt\n",
        "import traceback\n",
        "#------------------------------------------\n",
        "from musicautobot.numpy_encode import *\n",
        "from musicautobot.config import *\n",
        "from musicautobot.music_transformer import *\n",
        "from musicautobot.utils.midifile import *\n",
        "from musicautobot.utils.file_processing import process_all\n",
        "from IPython.display import Audio\n",
        "from IPython.core.display import display\n",
        "\n",
        "from google.colab import drive\n",
        "drive.mount('/content/drive')"
      ],
      "metadata": {
        "colab": {
          "base_uri": "https://localhost:8080/"
        },
        "id": "vnj5gZspnZA_",
        "outputId": "6fa25042-0e5f-40cd-d028-f6c661149a75"
      },
      "execution_count": null,
      "outputs": [
        {
          "output_type": "stream",
          "name": "stdout",
          "text": [
            "Collecting musicautobot\n",
            "  Downloading musicautobot-0.0.1-py3-none-any.whl (38 kB)\n",
            "Installing collected packages: musicautobot\n",
            "Successfully installed musicautobot-0.0.1\n",
            "Collecting pebble\n",
            "  Downloading Pebble-4.6.3-py2.py3-none-any.whl (25 kB)\n",
            "Installing collected packages: pebble\n",
            "Successfully installed pebble-4.6.3\n",
            "Warning: Could not find musescore installation. Please install musescore (see README) and/or update music21 environment paths\n",
            "Mounted at /content/drive\n"
          ]
        }
      ]
    },
    {
      "cell_type": "code",
      "source": [
        "cutoff = 5 # max instruments\n",
        "min_variation = 3 # minimum number of different midi notes played"
      ],
      "metadata": {
        "id": "HUCRLd4OoIYA"
      },
      "execution_count": null,
      "outputs": []
    },
    {
      "cell_type": "code",
      "execution_count": null,
      "metadata": {
        "id": "7-_Dk7Ckmi7U"
      },
      "outputs": [],
      "source": [
        "def transform_midi(midi_file):\n",
        "    input_path = midi_file\n",
        "    \n",
        "    # Part 1: Filter out midi tracks (drums, repetitive instruments, etc.)\n",
        "    try: \n",
        "#         if duet_only and num_piano_tracks(input_path) not in [1, 2]: return None\n",
        "        input_file = compress_midi_file(input_path, min_variation=min_variation, cutoff=cutoff) # remove non note tracks and standardize instruments\n",
        "        \n",
        "        if input_file is None: return None\n",
        "    except Exception as e:\n",
        "        if 'badly form' in str(e): return None # ignore badly formatted midi errors\n",
        "        if 'out of range' in str(e): return None # ignore badly formatted midi errors\n",
        "        print('Error parsing midi', input_path, e)\n",
        "        return None\n",
        "        \n",
        "    # Part 2. Compress rests and long notes\n",
        "    stream = file2stream(input_file) # 1.\n",
        "    try:\n",
        "        chordarr = stream2chordarr(stream) # 2. max_dur = quarter_len * sample_freq (4). 128 = 8 bars\n",
        "    except Exception as e:\n",
        "        print('Could not encode to chordarr:', input_path, e)\n",
        "        print(traceback.format_exc())\n",
        "        return None\n",
        "    \n",
        "    # Part 3. Compress song rests - Don't want songs with really long pauses \n",
        "    # (this happens because we filter out midi tracks).\n",
        "    chord_trim = trim_chordarr_rests(chordarr)\n",
        "    chord_short = shorten_chordarr_rests(chord_trim)\n",
        "    delta_trim = chord_trim.shape[0] - chord_short.shape[0]\n",
        "#     if delta_trim > 500: \n",
        "#         print(f'Removed {delta_trim} rests from {input_path}. Skipping song')\n",
        "#         return None\n",
        "    chordarr = chord_short\n",
        "    \n",
        "    # Part 3. Chord array to numpy\n",
        "    npenc = chordarr2npenc(chordarr)\n",
        "    if not is_valid_npenc(npenc, input_path=input_path):\n",
        "        return None\n",
        "    \n",
        "    return npenc"
      ]
    },
    {
      "cell_type": "code",
      "source": [
        "def process_metadata(midi_file):\n",
        "    # Get outfile and check if it exists\n",
        "    out_file = numpy_path/midi_file.relative_to(midi_path).with_suffix('.npy')\n",
        "    out_file.parent.mkdir(parents=True, exist_ok=True)\n",
        "    if out_file.exists(): return\n",
        "    \n",
        "    npenc = transform_midi(midi_file)\n",
        "    if npenc is not None: np.save(out_file, npenc)"
      ],
      "metadata": {
        "id": "lQjV0E_6nM8N"
      },
      "execution_count": null,
      "outputs": []
    },
    {
      "cell_type": "code",
      "source": [
        "def timeout_func(data, seconds):\n",
        "    print(\"Timeout:\", seconds, data.get('midi'))"
      ],
      "metadata": {
        "id": "QXTEmLq1nPI9"
      },
      "execution_count": null,
      "outputs": []
    },
    {
      "cell_type": "code",
      "source": [
        "midi_path = './drive/MyDrive/mid_2400_to_4800'\n",
        "numpy_path = './numpy_path_2400_to_4800'\n",
        "midi_files = get_files(midi_path, '.mid', recurse=True)\n",
        "processed = process_all(process_metadata, midi_files, timeout=120, timeout_func=timeout_func)"
      ],
      "metadata": {
        "id": "V_3Lf68InQox",
        "colab": {
          "base_uri": "https://localhost:8080/",
          "height": 54
        },
        "outputId": "52806cb3-42e4-4aa9-e03a-f25e11bc0731"
      },
      "execution_count": null,
      "outputs": [
        {
          "output_type": "display_data",
          "data": {
            "text/html": [
              "\n",
              "    <div>\n",
              "        <style>\n",
              "            /* Turns off some styling */\n",
              "            progress {\n",
              "                /* gets rid of default border in Firefox and Opera. */\n",
              "                border: none;\n",
              "                /* Needs to be in here for Safari polyfill so background images work as expected. */\n",
              "                background-size: auto;\n",
              "            }\n",
              "            .progress-bar-interrupted, .progress-bar-interrupted::-webkit-progress-bar {\n",
              "                background: #F44336;\n",
              "            }\n",
              "        </style>\n",
              "      <progress value='2400' class='' max='2400' style='width:300px; height:20px; vertical-align: middle;'></progress>\n",
              "      100.00% [2400/2400 1:41:29<00:00]\n",
              "    </div>\n",
              "    "
            ],
            "text/plain": [
              "<IPython.core.display.HTML object>"
            ]
          },
          "metadata": {}
        },
        {
          "output_type": "stream",
          "name": "stdout",
          "text": [
            "Sequence too short: 12 drive/MyDrive/mid_2400_to_4800/TRGGTDM128F14AD0B2.mid\n"
          ]
        }
      ]
    }
  ]
}