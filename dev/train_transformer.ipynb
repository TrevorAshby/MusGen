{
 "cells": [
  {
   "cell_type": "markdown",
   "metadata": {},
   "source": [
    "A notebook for training a music generation transformer"
   ]
  },
  {
   "cell_type": "code",
   "execution_count": 1,
   "metadata": {},
   "outputs": [],
   "source": [
    "import sys\n",
    "sys.path.insert(0, '../src/libs')"
   ]
  },
  {
   "cell_type": "code",
   "execution_count": 2,
   "metadata": {},
   "outputs": [],
   "source": [
    "# our file imports\n",
    "from music_transformer import *\n",
    "from transformer_training_helpers import *\n",
    "from song_classification import *\n",
    "\n",
    "# musicautobot\n",
    "from musicautobot.numpy_encode import *\n",
    "from musicautobot.config import *\n",
    "from musicautobot.music_transformer import *\n",
    "from musicautobot.utils.midifile import *\n",
    "from musicautobot.utils.file_processing import process_all"
   ]
  },
  {
   "cell_type": "code",
   "execution_count": 3,
   "metadata": {},
   "outputs": [],
   "source": [
    "#midi_path = '../src/mid_data_collections/mid_0_to_10000'\n",
    "numpy_path = '../src/numpy_path'"
   ]
  },
  {
   "cell_type": "code",
   "execution_count": 4,
   "metadata": {},
   "outputs": [
    {
     "data": {
      "text/plain": [
       "1177"
      ]
     },
     "execution_count": 4,
     "metadata": {},
     "output_type": "execute_result"
    }
   ],
   "source": [
    "numpy_files = get_files(numpy_path, extensions='.npy', recurse=True); len(numpy_files)\n",
    "#midi_files = get_files(midi_path, '.mid', recurse=True)\n",
    "#print(midi_files[0])\n",
    "#print(len(midi_files))"
   ]
  },
  {
   "cell_type": "code",
   "execution_count": 5,
   "metadata": {},
   "outputs": [],
   "source": [
    "data_path = './saved_data/'\n",
    "data_save_name = 'music_item_data_0-10000.pkl'\n",
    "def create_databunch(files, path):\n",
    "    #save_file.parent.mkdir(exist_ok=True, parents=True)\n",
    "    vocab = MusicVocab.create()\n",
    "    processors = [OpenNPFileProcessor(), MusicItemProcessor()]\n",
    "\n",
    "    #data = MusicDataBunch.from_files(midi_files, path, processors=processors, encode_position=True)\n",
    "    data = MusicDataBunch.from_files(files, path, processors=processors, encode_position=True)\n",
    "    return data"
   ]
  },
  {
   "cell_type": "code",
   "execution_count": 6,
   "metadata": {},
   "outputs": [
    {
     "name": "stderr",
     "output_type": "stream",
     "text": [
      "C:\\Users\\Trevi\\AppData\\Local\\Packages\\PythonSoftwareFoundation.Python.3.8_qbz5n2kfra8p0\\LocalCache\\local-packages\\Python38\\site-packages\\fastai\\core.py:302: VisibleDeprecationWarning: Creating an ndarray from ragged nested sequences (which is a list-or-tuple of lists-or-tuples-or ndarrays with different lengths or shapes) is deprecated. If you meant to do this, you must specify 'dtype=object' when creating the ndarray.\n",
      "  return np.array(a, dtype=dtype, **kwargs)\n"
     ]
    },
    {
     "data": {
      "text/plain": [
       "MusicDataBunch;\n",
       "\n",
       "Train: LabelList (1060 items)\n",
       "x: MusicItemList\n",
       "\n",
       "MusicItem - (9818,)\n",
       "xxbos xxpad n54 d2 n50 d2 n38 d1 xxsep d1...,\n",
       "MusicItem - (6616,)\n",
       "xxbos xxpad n64 d2 n61 d2 n57 d2 n52 d4...,\n",
       "MusicItem - (9758,)\n",
       "xxbos xxpad xxsep d7 n54 d11 xxsep d1 n64 d11...,\n",
       "MusicItem - (1236,)\n",
       "xxbos xxpad n76 d32 n72 d32 n67 d32 n64 d32...,\n",
       "MusicItem - (7064,)\n",
       "xxbos xxpad n76 d2 n72 d2 n60 d29 n57 d28...\n",
       "y: LMLabelList\n",
       ",,,,\n",
       "Path: saved_data;\n",
       "\n",
       "Valid: LabelList (117 items)\n",
       "x: MusicItemList\n",
       "\n",
       "MusicItem - (11442,)\n",
       "xxbos xxpad xxsep d9 n55 d1 xxsep d1 n57 d1...,\n",
       "MusicItem - (15824,)\n",
       "xxbos xxpad xxsep d11 n89 d1 n88 d1 xxsep d1...,\n",
       "MusicItem - (2552,)\n",
       "xxbos xxpad n70 d10 n67 d10 n62 d10 n58 d10...,\n",
       "MusicItem - (5066,)\n",
       "xxbos xxpad n58 d1 n55 d1 n51 d1 n39 d4...,\n",
       "MusicItem - (5798,)\n",
       "xxbos xxpad n60 d128 n55 d32 n51 d32 n48 d12...\n",
       "y: LMLabelList\n",
       ",,,,\n",
       "Path: saved_data;\n",
       "\n",
       "Test: None"
      ]
     },
     "execution_count": 6,
     "metadata": {},
     "output_type": "execute_result"
    }
   ],
   "source": [
    "all_data = create_databunch(numpy_files, data_path); all_data"
   ]
  },
  {
   "cell_type": "code",
   "execution_count": null,
   "metadata": {},
   "outputs": [],
   "source": [
    "def run_epoch(data_iter, model, loss_compute):#, bad_idxs):\n",
    "    \"Standard Training and Logging Function\"\n",
    "    start = time.time()\n",
    "    total_tokens = 0\n",
    "    total_loss = 0\n",
    "    tokens = 0\n",
    "    i = 0\n",
    "    collection_of_losses = []\n",
    "    for batch in data_iter:\n",
    "        #print(\"batch num: \", i)\n",
    "      #if i in bad_idxs:\n",
    "      #  print(\"BAD IDX: \", i)\n",
    "      #  i += 1\n",
    "      #  continue  \n",
    "      #else:\n",
    "        out, w2 = model.forward(batch.src, batch.trg, \n",
    "                            batch.src_mask, batch.trg_mask)\n",
    "\n",
    "        loss = loss_compute(out, batch.trg_y, batch.ntokens.item())\n",
    "\n",
    "        total_loss += loss\n",
    "        total_tokens += batch.ntokens\n",
    "        tokens += batch.ntokens\n",
    "        if i % 200 == 1:\n",
    "            collection_of_losses.append(torch.div(loss,batch.ntokens).cpu())\n",
    "            elapsed = time.time() - start\n",
    "            print(\"Epoch Step: %d Loss: %f Tokens per Sec: %f\" %\n",
    "                    (i, torch.div(loss,batch.ntokens), tokens / elapsed))\n",
    "            start = time.time()\n",
    "            tokens = 0\n",
    "        i += 1\n",
    "    return (total_loss / total_tokens), collection_of_losses"
   ]
  },
  {
   "cell_type": "code",
   "execution_count": null,
   "metadata": {},
   "outputs": [],
   "source": [
    "# My version of Greedy Decoding\n",
    "def test_my_model():\n",
    "\n",
    "  #---------- TRAIN -----------\n",
    "  V = len(all_data.vocab) # 312\n",
    "  criterion = LabelSmoothing(size=V, padding_idx=0, smoothing=0.0)\n",
    "  model = make_model(V, V, N=2, d_model=128)\n",
    "  model.cuda() # uncomment for GPU\n",
    "  model_opt = NoamOpt(model.src_embed[0].d_model, 1, 400, torch.optim.Adam(model.parameters(), lr=0.6, betas=(0.9, 0.98), eps=1e-9))\n",
    "  the_train_data = data_gen(all_data.train_ds)\n",
    "  collection_of_losses = np.array([])\n",
    "  for epoch in range(30):\n",
    "    print(\"epoch: \", epoch)\n",
    "    model.train()\n",
    "    totalLoss_div_totalTokens, collection_of_losses_inp = run_epoch(the_train_data, model, SimpleLossCompute(model.generator, criterion, model_opt))#, bad_idxs)\n",
    "    #model.eval()\n",
    "    #print(run_epoch(the_train_data, model, SimpleLossCompute(model.generator, criterion, None), bad_idxs))\n",
    "    collection_of_losses = np.concatenate([collection_of_losses, collection_of_losses_inp])\n",
    "  return model, collection_of_losses\n",
    "\n",
    "model, losses = test_my_model()"
   ]
  },
  {
   "cell_type": "markdown",
   "metadata": {},
   "source": [
    "Save model to a .pt file"
   ]
  },
  {
   "cell_type": "code",
   "execution_count": null,
   "metadata": {},
   "outputs": [],
   "source": [
    "torch.save(model, 'epochs_75_LM.pt')"
   ]
  },
  {
   "cell_type": "markdown",
   "metadata": {},
   "source": [
    "Load the Model from a previous state"
   ]
  },
  {
   "cell_type": "code",
   "execution_count": null,
   "metadata": {},
   "outputs": [],
   "source": [
    "myModel = torch.load(\"./epochs_30_LM.pt\")"
   ]
  }
 ],
 "metadata": {
  "interpreter": {
   "hash": "95fee283cad2380c3bbb086be18af1e1d950b8d84e571fde4cd1d4f314b30685"
  },
  "kernelspec": {
   "display_name": "Python 3.8.10 64-bit (windows store)",
   "language": "python",
   "name": "python3"
  },
  "language_info": {
   "codemirror_mode": {
    "name": "ipython",
    "version": 3
   },
   "file_extension": ".py",
   "mimetype": "text/x-python",
   "name": "python",
   "nbconvert_exporter": "python",
   "pygments_lexer": "ipython3",
   "version": "3.8.10"
  },
  "orig_nbformat": 4
 },
 "nbformat": 4,
 "nbformat_minor": 2
}
